{
 "cells": [
  {
   "cell_type": "code",
   "execution_count": 1,
   "id": "9104bdb3",
   "metadata": {},
   "outputs": [],
   "source": [
    "from sklearn import datasets\n",
    "iris = datasets.load_iris() #load dataser iris\n",
    "X = iris.data  # we only take the first two features.\n",
    "y = iris.target"
   ]
  },
  {
   "cell_type": "code",
   "execution_count": 3,
   "id": "7cf9475f",
   "metadata": {},
   "outputs": [],
   "source": [
    "from sklearn.model_selection import train_test_split\n",
    "\n",
    "X_train, X_test, y_train, y_test = train_test_split(X, y, train_size = 0.7)"
   ]
  },
  {
   "cell_type": "code",
   "execution_count": 4,
   "id": "8d6ccd48",
   "metadata": {},
   "outputs": [
    {
     "name": "stdout",
     "output_type": "stream",
     "text": [
      "Banyak data latih setelah dilakukan Train-Validation Split:  105\n",
      "Banyak data uji setelah dilakukan Train-Validation Split:  45\n"
     ]
    }
   ],
   "source": [
    "print(\"Banyak data latih setelah dilakukan Train-Validation Split: \", len(X_train))\n",
    "print(\"Banyak data uji setelah dilakukan Train-Validation Split: \", len(X_test))"
   ]
  },
  {
   "cell_type": "code",
   "execution_count": 5,
   "id": "2c0ad18e",
   "metadata": {},
   "outputs": [
    {
     "name": "stdout",
     "output_type": "stream",
     "text": [
      "Akurasi model SVM untuk tiap fold:  [0.96666667 1.         0.96666667 0.96666667 1.        ]\n",
      "Akurasi model SVM dengan 5-Fold Cross Validation:  0.9800000000000001\n"
     ]
    }
   ],
   "source": [
    "from sklearn.model_selection import cross_val_score\n",
    "from sklearn.svm import SVC\n",
    "\n",
    "model = SVC(kernel = 'linear', C = 1)\n",
    "scores = cross_val_score(model, X, y, cv = 5)\n",
    "print(\"Akurasi model SVM untuk tiap fold: \", scores)\n",
    "print(\"Akurasi model SVM dengan 5-Fold Cross Validation: \", scores.mean())"
   ]
  },
  {
   "cell_type": "code",
   "execution_count": 6,
   "id": "cfd22880",
   "metadata": {},
   "outputs": [
    {
     "name": "stdout",
     "output_type": "stream",
     "text": [
      "Akurasi dengan menggunakan Nearest Neighbor:  0.9555555555555556\n"
     ]
    }
   ],
   "source": [
    "from sklearn.neighbors import KNeighborsClassifier\n",
    "from sklearn import metrics\n",
    "\n",
    "knn = KNeighborsClassifier()\n",
    "\n",
    "knn.fit(X_train, y_train)\n",
    "y_pred = knn.predict(X_test)\n",
    "score = metrics.accuracy_score(y_test, y_pred)\n",
    "print(\"Akurasi dengan menggunakan Nearest Neighbor: \", score)"
   ]
  },
  {
   "cell_type": "code",
   "execution_count": 7,
   "id": "034adda4",
   "metadata": {},
   "outputs": [],
   "source": [
    "# Import kNN Classifier dari sklearn\n",
    "from sklearn.neighbors import KNeighborsClassifier\n",
    "\n",
    "kkn = KNeighborsClassifier(n_neighbors=3) # memilih 3 sebagai banyaknya neighbors"
   ]
  },
  {
   "cell_type": "code",
   "execution_count": 8,
   "id": "192d1a8c",
   "metadata": {},
   "outputs": [
    {
     "name": "stdout",
     "output_type": "stream",
     "text": [
      "Akurasi dengan menggunakan Decision Tree:  0.9555555555555556\n"
     ]
    }
   ],
   "source": [
    "from sklearn.tree import DecisionTreeClassifier\n",
    "from sklearn import metrics\n",
    "\n",
    "dt = DecisionTreeClassifier(\n",
    "  max_depth = None,\n",
    "  min_samples_split = 2\n",
    ")\n",
    "\n",
    "dt.fit(X_train, y_train)\n",
    "y_pred = dt.predict(X_test)\n",
    "score = metrics.accuracy_score(y_test, y_pred)\n",
    "print(\"Akurasi dengan menggunakan Decision Tree: \", score)"
   ]
  },
  {
   "cell_type": "code",
   "execution_count": 9,
   "id": "6464a45a",
   "metadata": {},
   "outputs": [],
   "source": [
    "# Import Decisiom Tree Classifier dari sklearn \n",
    "from sklearn.tree import DecisionTreeClassifier\n",
    "\n",
    "dt = DecisionTreeClassifier(\n",
    "        max_depth=4, # menentukan kedalaman maksimum tree = 4\n",
    "        min_samples_split = 2 # menentukan 2 minimal sampel agar node bisa split\n",
    ")"
   ]
  },
  {
   "cell_type": "code",
   "execution_count": 10,
   "id": "90e7ea8a",
   "metadata": {},
   "outputs": [
    {
     "name": "stdout",
     "output_type": "stream",
     "text": [
      "Akurasi dengan menggunakan Naive Bayes:  0.28888888888888886\n"
     ]
    }
   ],
   "source": [
    "from sklearn import naive_bayes\n",
    "from sklearn import metrics\n",
    "\n",
    "nb = naive_bayes.BernoulliNB()\n",
    "\n",
    "nb.fit(X_train, y_train)\n",
    "y_pred = nb.predict(X_test)\n",
    "score = metrics.accuracy_score(y_test, y_pred)\n",
    "print(\"Akurasi dengan menggunakan Naive Bayes: \", score)"
   ]
  },
  {
   "cell_type": "code",
   "execution_count": 11,
   "id": "3a80e3c6",
   "metadata": {},
   "outputs": [],
   "source": [
    "# Import Suppotrt Vector Machine Classifier dari sklearn\n",
    "from sklearn.svm import SVC\n",
    "\n",
    "svmliniear = SVC(\n",
    "        kernel = \"linear\",\n",
    "        C = 1\n",
    "      )\n",
    "\n",
    "svmPoly = SVC(\n",
    "        kernel = \"poly\",\n",
    "        C = 1,\n",
    "        gamma = 0.01,\n",
    "        degree = 2\n",
    "      )\n",
    "\n",
    "svmRBF = SVC(\n",
    "        kernel = \"rbf\",\n",
    "        C = 1,\n",
    "        gamma = 0.01\n",
    "      )"
   ]
  },
  {
   "cell_type": "code",
   "execution_count": 12,
   "id": "a6b38f2c",
   "metadata": {},
   "outputs": [
    {
     "name": "stdout",
     "output_type": "stream",
     "text": [
      "Akurasi dengan menggunakan Support Vector Machine:  0.8888888888888888\n"
     ]
    }
   ],
   "source": [
    "from sklearn.svm import SVC\n",
    "from sklearn import metrics\n",
    "\n",
    "svm = SVC(\n",
    "  kernel = 'rbf',\n",
    "  C = 1,\n",
    "  gamma = 0.01\n",
    ")\n",
    "\n",
    "svm.fit(X_train, y_train)\n",
    "y_pred = svm.predict(X_test)\n",
    "score = metrics.accuracy_score(y_test, y_pred)\n",
    "print(\"Akurasi dengan menggunakan Support Vector Machine: \", score)"
   ]
  },
  {
   "cell_type": "code",
   "execution_count": 14,
   "id": "23244edb",
   "metadata": {},
   "outputs": [
    {
     "name": "stdout",
     "output_type": "stream",
     "text": [
      "0.9555555555555556\n"
     ]
    }
   ],
   "source": [
    "# Import AdaBoost Classifier dari sklearn\n",
    "from sklearn.ensemble import AdaBoostClassifier\n",
    "\n",
    "# Import metric untuk memeriksa akurasi\n",
    "from sklearn import metrics\n",
    "\n",
    "ab = AdaBoostClassifier(\n",
    "        n_estimators = 50,\n",
    "        learning_rate = 1\n",
    "      )\n",
    "\n",
    "ab.fit(X_train, y_train)\n",
    "y_pred = ab.predict(X_test)\n",
    "score = metrics.accuracy_score(y_test, y_pred)\n",
    "print(score)"
   ]
  },
  {
   "cell_type": "code",
   "execution_count": 15,
   "id": "635af45d",
   "metadata": {},
   "outputs": [],
   "source": [
    "# Import AdaBoost Classifier dari sklearn\n",
    "from sklearn.ensemble import AdaBoostClassifier\n",
    "\n",
    "ab = AdaBoostClassifier(\n",
    "        n_estimators = 24, # menentukan banyaknya weak learner sebanyak 24\n",
    "        learning_rate = 1 # menentukan learning rate sebesar 1\n",
    ")"
   ]
  },
  {
   "cell_type": "markdown",
   "id": "0a95322e",
   "metadata": {},
   "source": [
    "Dari Hasil Analisis Perbandingan Terhadap Performa Yang Dihasilkan dalam hal akurasi dapat disimpulkan bahwa Metode Klasifikasi K-Nearset Neighbors, Decision Tree dan AdaBoost Classifier memiliki akurasi yang paling tinggi yaitu dengan score 0.955555555555555, sedangkan Metode Klasifikasi SVM memiliki score akurasi 0.8888888888888888 lebih rendah dari ketiga metode diatas namun memiliki socre lebih tinggi dari metode Naive Bayes dengan score akurasi 0.28888888888888886. Jadi dapat disimpulkan urutan akurasi yang tertinggi dan terendah adalah K-Nearest Neighbors, Decision Tree, dan AdaBoost Classifeir, lalu dibawahnya ada SVM (Support Vector Machine) dan yang paling rendah score akurasinya itu ialah Metode Naive Bayes."
   ]
  }
 ],
 "metadata": {
  "kernelspec": {
   "display_name": "Python 3 (ipykernel)",
   "language": "python",
   "name": "python3"
  },
  "language_info": {
   "codemirror_mode": {
    "name": "ipython",
    "version": 3
   },
   "file_extension": ".py",
   "mimetype": "text/x-python",
   "name": "python",
   "nbconvert_exporter": "python",
   "pygments_lexer": "ipython3",
   "version": "3.9.7"
  }
 },
 "nbformat": 4,
 "nbformat_minor": 5
}
