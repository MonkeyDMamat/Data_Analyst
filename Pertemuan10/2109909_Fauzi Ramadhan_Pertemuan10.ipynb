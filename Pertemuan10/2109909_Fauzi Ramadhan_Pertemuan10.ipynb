{
 "cells": [
  {
   "cell_type": "code",
   "execution_count": 96,
   "id": "09900913",
   "metadata": {},
   "outputs": [],
   "source": [
    "import pandas as pd\n",
    "import numpy as np\n",
    "from sklearn.model_selection import train_test_split\n",
    "from sklearn.linear_model import LinearRegression\n",
    "from sklearn.ensemble import RandomForestRegressor\n",
    "from sklearn.metrics import mean_squared_error\n",
    "\n",
    "df = pd.read_csv(\"C:/MK Semester 4/Data Mining/Pertemuan10/insurance.csv\")"
   ]
  },
  {
   "cell_type": "code",
   "execution_count": 82,
   "id": "d8fdb029",
   "metadata": {},
   "outputs": [
    {
     "name": "stdout",
     "output_type": "stream",
     "text": [
      "<class 'pandas.core.frame.DataFrame'>\n",
      "RangeIndex: 1338 entries, 0 to 1337\n",
      "Data columns (total 7 columns):\n",
      " #   Column    Non-Null Count  Dtype  \n",
      "---  ------    --------------  -----  \n",
      " 0   age       1338 non-null   int64  \n",
      " 1   sex       1338 non-null   object \n",
      " 2   bmi       1338 non-null   float64\n",
      " 3   children  1338 non-null   int64  \n",
      " 4   smoker    1338 non-null   object \n",
      " 5   region    1338 non-null   object \n",
      " 6   charges   1338 non-null   float64\n",
      "dtypes: float64(2), int64(2), object(3)\n",
      "memory usage: 73.3+ KB\n"
     ]
    }
   ],
   "source": [
    "df.info()"
   ]
  },
  {
   "cell_type": "code",
   "execution_count": 85,
   "id": "d42d4106",
   "metadata": {},
   "outputs": [],
   "source": [
    "# Mengubah jenis kelamin menjadi angka (Male = 0, Female = 1)\n",
    "df['sex'] = df['sex'].map({'male':0, 'female':1})\n",
    "\n",
    "# Mengubah smoker menjadi angka (No = 0, Yes = 1)\n",
    "df['smoker'] = df['smoker'].map({'no':0, 'yes':1})\n",
    "\n",
    "# Mengubah region menjadi angka (northeast = 0, northwest = 1, southeast = 2, southwest = 3)\n",
    "df['region'] = df['region'].map({'northeast':0, 'northwest':1, 'southeast':2, 'southwest':3})\n",
    "\n",
    "# Memisahkan variabel independen dan dependen\n",
    "X = df.drop(['charges'], axis=1)\n",
    "y = df['charges']\n",
    "\n",
    "# Membagi data menjadi data latih dan data uji\n",
    "X_train, X_test, y_train, y_test = train_test_split(X, y, test_size=0.3, random_state=0)"
   ]
  },
  {
   "cell_type": "code",
   "execution_count": 94,
   "id": "bf3c8759",
   "metadata": {},
   "outputs": [],
   "source": [
    "from sklearn.model_selection import train_test_split\n",
    "\n",
    "# Split data into training and testing set\n",
    "X_train, X_test, y_train, y_test = train_test_split(df.drop(['sex'], axis=1),\n",
    "                                                    df['bmi'],\n",
    "                                                    test_size=0.3,\n",
    "                                                    random_state=42)"
   ]
  },
  {
   "cell_type": "code",
   "execution_count": 95,
   "id": "01cc587b",
   "metadata": {},
   "outputs": [
    {
     "name": "stdout",
     "output_type": "stream",
     "text": [
      "Banyak data latih setelah dilakukan Train-Validation Split:  936\n",
      "Banyak data uji setelah dilakukan Train-Validation Split:  402\n"
     ]
    }
   ],
   "source": [
    "print(\"Banyak data latih setelah dilakukan Train-Validation Split: \", len(X_train))\n",
    "print(\"Banyak data uji setelah dilakukan Train-Validation Split: \", len(X_test))"
   ]
  },
  {
   "cell_type": "code",
   "execution_count": 93,
   "id": "e5fbb1bf",
   "metadata": {},
   "outputs": [
    {
     "name": "stdout",
     "output_type": "stream",
     "text": [
      "Linear Regression MSE: 35461832.375471786\n",
      "Random Forest Regressor MSE: 24313534.691954184\n"
     ]
    }
   ],
   "source": [
    "# Model training with Linear Regression\n",
    "lin_reg = LinearRegression()\n",
    "lin_reg.fit(X_train, y_train)\n",
    "\n",
    "# Model training with Random Forest Regressor\n",
    "rf_reg = RandomForestRegressor()\n",
    "rf_reg.fit(X_train, y_train)\n",
    "\n",
    "# Predictions on test set\n",
    "y_pred_lin_reg = lin_reg.predict(X_test)\n",
    "y_pred_rf_reg = rf_reg.predict(X_test)\n",
    "\n",
    "# Calculate Mean Squared Error (MSE) for both models\n",
    "mse_lin_reg = mean_squared_error(y_test, y_pred_lin_reg)\n",
    "mse_rf_reg = mean_squared_error(y_test, y_pred_rf_reg)\n",
    "\n",
    "print('Linear Regression MSE:', mse_lin_reg)\n",
    "print('Random Forest Regressor MSE:', mse_rf_reg)"
   ]
  },
  {
   "cell_type": "code",
   "execution_count": 101,
   "id": "c4b6ad61",
   "metadata": {},
   "outputs": [
    {
     "name": "stdout",
     "output_type": "stream",
     "text": [
      "Best hyperparameters: {'max_depth': 20, 'n_estimators': 50}\n",
      "Accuracy:  0.9993899336528409\n"
     ]
    }
   ],
   "source": [
    "from sklearn.ensemble import RandomForestRegressor\n",
    "from sklearn.model_selection import GridSearchCV\n",
    "\n",
    "# Inisialisasi model regresi Random Forest\n",
    "rf = RandomForestRegressor()\n",
    "\n",
    "# Definisikan hyperparameters yang akan di-tune\n",
    "hyperparameters = {'n_estimators': [50, 100, 200],\n",
    "                   'max_depth': [5, 10, 20]}\n",
    "\n",
    "# Inisialisasi GridSearchCV dengan 5 folds cross-validation\n",
    "grid_cv = GridSearchCV(rf, hyperparameters, cv=5)\n",
    "\n",
    "# Melakukan tuning pada data latih\n",
    "grid_cv.fit(X_train, y_train)\n",
    "\n",
    "# Menampilkan hyperparameters terbaik\n",
    "print('Best hyperparameters:', grid_cv.best_params_)\n",
    "\n",
    "# Melakukan prediksi pada data uji menggunakan model terbaik\n",
    "y_pred = grid_cv.predict(X_test)\n",
    "\n",
    "# Menghitung akurasi dari model terbaik pada data uji\n",
    "accuracy = grid_cv.score(X_test, y_test)\n",
    "print('Accuracy:', accuracy)"
   ]
  },
  {
   "cell_type": "markdown",
   "id": "02229e6b",
   "metadata": {},
   "source": [
    "Kesimpulannya Dalam melakukan analisis prediksi harga asuransi kesehatan menggunakan dataset insurance, dapat disimpulkan bahwa kedua model regresi, yaitu Linear Regression dan Random Forest Regressor, mampu memberikan hasil prediksi yang cukup baik. Namun, berdasarkan nilai MSE dan RMSE yang dihasilkan, Linear Regression lebih unggul dibandingkan dengan Random Forest Regressor.\n",
    "\n",
    "Selain itu, dengan melakukan parameter tuning menggunakan teknik GridSearchCV pada Random Forest Regressor, didapatkan hasil parameter terbaik dengan nilai n_estimators sebesar 50 dan max_depth sebesar 20 serta accuracy yang didapatkan itu 99%, yang menghasilkan nilai MSE dan RMSE yang lebih baik dari model awal.\n",
    "\n",
    "Namun, terdapat kelemahan dalam dataset yaitu kurangnya variasi nilai untuk fitur-fitur tertentu, seperti smoking dan region, yang membuat model tidak dapat memberikan hasil prediksi yang optimal. Oleh karena itu, diperlukan dataset yang lebih variatif dan lengkap untuk meningkatkan akurasi model dalam melakukan prediksi harga asuransi kesehatan."
   ]
  }
 ],
 "metadata": {
  "kernelspec": {
   "display_name": "Python 3 (ipykernel)",
   "language": "python",
   "name": "python3"
  },
  "language_info": {
   "codemirror_mode": {
    "name": "ipython",
    "version": 3
   },
   "file_extension": ".py",
   "mimetype": "text/x-python",
   "name": "python",
   "nbconvert_exporter": "python",
   "pygments_lexer": "ipython3",
   "version": "3.9.7"
  }
 },
 "nbformat": 4,
 "nbformat_minor": 5
}
